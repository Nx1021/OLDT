{
 "cells": [
  {
   "cell_type": "code",
   "execution_count": 1,
   "metadata": {},
   "outputs": [
    {
     "name": "stdout",
     "output_type": "stream",
     "text": [
      "Jupyter environment detected. Enabling Open3D WebVisualizer.\n",
      "[Open3D INFO] WebRTC GUI backend enabled.\n",
      "[Open3D INFO] WebRTCWindowSystem: HTTP handshake server disabled.\n"
     ]
    }
   ],
   "source": [
    "from __init__ import DATASETS_DIR, CFG_DIR, SERVER_DATASET_DIR\n",
    "from posture_6d.data.dataset_example import VocFormat_6dPosture, UnifiedFilesHandle\n",
    "from posture_6d.data.dataset import SpliterGroup, Spliter\n",
    "from posture_6d.core.utils import deserialize_object, serialize_object\n",
    "import os\n",
    "\n",
    "linemod_mix_path = os.path.join(DATASETS_DIR, \"linemod_mix\")\n"
   ]
  },
  {
   "cell_type": "code",
   "execution_count": 2,
   "metadata": {},
   "outputs": [
    {
     "name": "stdout",
     "output_type": "stream",
     "text": [
      "initilizing VocFormat_6dPosture:e:/shared/code/OLDT/datasets/linemod_mix/000000|\n"
     ]
    },
    {
     "name": "stderr",
     "output_type": "stream",
     "text": [
      "                                                                                                                                                       "
     ]
    },
    {
     "name": "stderr",
     "output_type": "stream",
     "text": [
      "                                                                                                                                                                   \r"
     ]
    }
   ],
   "source": [
    "lm = VocFormat_6dPosture(os.path.join(linemod_mix_path, str(0).rjust(6, '0')))\n"
   ]
  },
  {
   "cell_type": "code",
   "execution_count": 3,
   "metadata": {},
   "outputs": [
    {
     "name": "stdout",
     "output_type": "stream",
     "text": [
      "{'default': ['train', 'val'], 'reality': ['real', 'sim'], 'basis': ['basic', 'augment'], 'posture': ['train', 'val']}\n"
     ]
    }
   ],
   "source": [
    "import numpy as np\n",
    "print(lm.SPLIT_PARA)\n",
    "base_txt = os.path.join(linemod_mix_path, \"base_log.txt\")\n",
    "aug_txt = os.path.join(linemod_mix_path, \"isolate_log.txt\")\n",
    "posture_train_txt = os.path.join(linemod_mix_path, \"oldt_train.txt\")\n",
    "posture_val_txt   = os.path.join(linemod_mix_path, \"oldt_val.txt\")\n",
    "train_txt = os.path.join(linemod_mix_path, \"train.txt\")\n",
    "val_txt   = os.path.join(linemod_mix_path, \"val.txt\")\n",
    "\n",
    "base_array = np.loadtxt(base_txt, dtype=str)\n",
    "aug_array = np.loadtxt(aug_txt, dtype=str)\n",
    "posture_train_array = np.loadtxt(posture_train_txt, dtype=str)\n",
    "posture_val_array = np.loadtxt(posture_val_txt, dtype=str)\n",
    "train_array = np.loadtxt(train_txt, dtype=str)\n",
    "val_array = np.loadtxt(val_txt, dtype=str)\n"
   ]
  },
  {
   "cell_type": "code",
   "execution_count": 4,
   "metadata": {},
   "outputs": [],
   "source": [
    "\n",
    "base_dict = {int(x): True for x in base_array}\n",
    "aug_dict = {int(x): True for x in aug_array}\n",
    "posture_train_dict = {int(x): True for x in posture_train_array}\n",
    "posture_val_dict = {int(x): True for x in posture_val_array}\n",
    "train_dict = {int(x): True for x in train_array}\n",
    "val_dict = {int(x): True for x in val_array}\n"
   ]
  },
  {
   "cell_type": "code",
   "execution_count": 5,
   "metadata": {},
   "outputs": [
    {
     "name": "stderr",
     "output_type": "stream",
     "text": [
      "                                                                                                                                                                         \r"
     ]
    },
    {
     "ename": "TypeError",
     "evalue": "set_all_by_rate() takes 2 positional arguments but 3 were given",
     "output_type": "error",
     "traceback": [
      "\u001b[1;31m---------------------------------------------------------------------------\u001b[0m",
      "\u001b[1;31mTypeError\u001b[0m                                 Traceback (most recent call last)",
      "\u001b[1;32me:\\shared\\code\\OLDT\\hellojupyter.ipynb 单元格 5\u001b[0m line \u001b[0;36m4\n\u001b[0;32m      <a href='vscode-notebook-cell:/e%3A/shared/code/OLDT/hellojupyter.ipynb#W4sZmlsZQ%3D%3D?line=0'>1</a>\u001b[0m lm\u001b[39m.\u001b[39mspliter_group\u001b[39m.\u001b[39mget_cluster(\u001b[39m\"\u001b[39m\u001b[39mdefault\u001b[39m\u001b[39m\"\u001b[39m)\u001b[39m.\u001b[39mset_one_subset(\u001b[39m\"\u001b[39m\u001b[39mtrain\u001b[39m\u001b[39m\"\u001b[39m, train_dict)\n\u001b[0;32m      <a href='vscode-notebook-cell:/e%3A/shared/code/OLDT/hellojupyter.ipynb#W4sZmlsZQ%3D%3D?line=1'>2</a>\u001b[0m lm\u001b[39m.\u001b[39mspliter_group\u001b[39m.\u001b[39mget_cluster(\u001b[39m\"\u001b[39m\u001b[39mdefault\u001b[39m\u001b[39m\"\u001b[39m)\u001b[39m.\u001b[39mset_one_subset(\u001b[39m\"\u001b[39m\u001b[39mval\u001b[39m\u001b[39m\"\u001b[39m, val_dict)\n\u001b[1;32m----> <a href='vscode-notebook-cell:/e%3A/shared/code/OLDT/hellojupyter.ipynb#W4sZmlsZQ%3D%3D?line=3'>4</a>\u001b[0m lm\u001b[39m.\u001b[39;49mspliter_group\u001b[39m.\u001b[39;49mget_cluster(\u001b[39m\"\u001b[39;49m\u001b[39mreality\u001b[39;49m\u001b[39m\"\u001b[39;49m)\u001b[39m.\u001b[39;49mset_all_by_rate(\u001b[39m1.0\u001b[39;49m, \u001b[39m0.0\u001b[39;49m)\n\u001b[0;32m      <a href='vscode-notebook-cell:/e%3A/shared/code/OLDT/hellojupyter.ipynb#W4sZmlsZQ%3D%3D?line=5'>6</a>\u001b[0m lm\u001b[39m.\u001b[39mspliter_group\u001b[39m.\u001b[39mget_cluster(\u001b[39m\"\u001b[39m\u001b[39mbasis\u001b[39m\u001b[39m\"\u001b[39m)\u001b[39m.\u001b[39mset_one_subset(\u001b[39m\"\u001b[39m\u001b[39mbasic\u001b[39m\u001b[39m\"\u001b[39m, base_dict)\n\u001b[0;32m      <a href='vscode-notebook-cell:/e%3A/shared/code/OLDT/hellojupyter.ipynb#W4sZmlsZQ%3D%3D?line=6'>7</a>\u001b[0m lm\u001b[39m.\u001b[39mspliter_group\u001b[39m.\u001b[39mget_cluster(\u001b[39m\"\u001b[39m\u001b[39mbasis\u001b[39m\u001b[39m\"\u001b[39m)\u001b[39m.\u001b[39mset_one_subset(\u001b[39m\"\u001b[39m\u001b[39maug\u001b[39m\u001b[39m\"\u001b[39m, aug_dict)\n",
      "\u001b[1;31mTypeError\u001b[0m: set_all_by_rate() takes 2 positional arguments but 3 were given"
     ]
    }
   ],
   "source": [
    "lm.spliter_group.get_cluster(\"default\").set_one_subset(\"train\", train_dict)\n",
    "lm.spliter_group.get_cluster(\"default\").set_one_subset(\"val\", val_dict)\n"
   ]
  },
  {
   "cell_type": "code",
   "execution_count": 7,
   "metadata": {},
   "outputs": [
    {
     "name": "stderr",
     "output_type": "stream",
     "text": [
      "                                                                                                                                                                         \r"
     ]
    }
   ],
   "source": [
    "\n",
    "lm.spliter_group.get_cluster(\"reality\").set_all_by_rate((1.0, 0.0))\n",
    "\n",
    "lm.spliter_group.get_cluster(\"basis\").set_one_subset(\"basic\", base_dict)\n",
    "lm.spliter_group.get_cluster(\"basis\").set_one_subset(\"augment\", aug_dict)\n",
    "\n",
    "lm.spliter_group.get_cluster(\"posture\").set_one_subset(\"train\", posture_train_dict)\n",
    "lm.spliter_group.get_cluster(\"posture\").set_one_subset(\"val\", posture_val_dict)\n"
   ]
  }
 ],
 "metadata": {
  "kernelspec": {
   "display_name": "Python 3",
   "language": "python",
   "name": "python3"
  },
  "language_info": {
   "codemirror_mode": {
    "name": "ipython",
    "version": 3
   },
   "file_extension": ".py",
   "mimetype": "text/x-python",
   "name": "python",
   "nbconvert_exporter": "python",
   "pygments_lexer": "ipython3",
   "version": "3.9.6"
  },
  "orig_nbformat": 4
 },
 "nbformat": 4,
 "nbformat_minor": 2
}
